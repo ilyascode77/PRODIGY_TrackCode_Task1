{
 "cells": [
  {
   "cell_type": "code",
   "execution_count": 6,
   "metadata": {},
   "outputs": [
    {
     "name": "stdout",
     "output_type": "stream",
     "text": [
      "\n",
      "Original Message:  oqwjukpg\n",
      "Decrypted Message:  mouhsine\n"
     ]
    }
   ],
   "source": [
    "def caesar_cipher(text, decalage, mode='encrypt'):\n",
    "    result = \"\"\n",
    "    \n",
    "    \n",
    "    if mode == 'decrypt':\n",
    "        decalage = -decalage\n",
    "    \n",
    "    for char in text:\n",
    "        if char.isalpha():   \n",
    "            start = 65 if char.isupper() else 97  # ASCII de 'A' ou 'a'\n",
    "            result += chr((ord(char) - start + decalage) % 26 + start)\n",
    "        else:\n",
    "            result += char  # Les autres caractères restent inchangés\n",
    "    \n",
    "    return result\n",
    "\n",
    " \n",
    "mode = input(\"Choose mode: 'encrypt' to encrypt or 'decrypt' to decrypt: \").lower()\n",
    "\n",
    " \n",
    "if mode not in ['encrypt', 'decrypt']:\n",
    "    print(\"Invalid mode selected. Please choose 'encrypt' or 'decrypt'.\")\n",
    "else:\n",
    "    \n",
    "    message = input(\"Enter your message: \")\n",
    "    decalage_value = int(input(\"entrer le nombre  decalage : \"))\n",
    "\n",
    "    \n",
    "    result_text = caesar_cipher(message, decalage_value, mode=mode)\n",
    "    \n",
    "    if mode == 'encrypt':\n",
    "        print(\"\\nOriginal Message: \", message)\n",
    "        print(\"Encrypted Message: \", result_text)\n",
    "    else:\n",
    "        print(\"\\nOriginal Message: \", message)\n",
    "        print(\"Decrypted Message: \", result_text)\n"
   ]
  }
 ],
 "metadata": {
  "kernelspec": {
   "display_name": "Python 3",
   "language": "python",
   "name": "python3"
  },
  "language_info": {
   "codemirror_mode": {
    "name": "ipython",
    "version": 3
   },
   "file_extension": ".py",
   "mimetype": "text/x-python",
   "name": "python",
   "nbconvert_exporter": "python",
   "pygments_lexer": "ipython3",
   "version": "3.13.0"
  }
 },
 "nbformat": 4,
 "nbformat_minor": 2
}
